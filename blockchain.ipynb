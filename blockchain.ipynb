{
 "cells": [
  {
   "cell_type": "markdown",
   "id": "e997e2e2-c3e4-4486-aa28-e9b683760226",
   "metadata": {},
   "source": [
    "# A Toy Blockchain System\n",
    "## By Rory Linerud"
   ]
  },
  {
   "cell_type": "markdown",
   "id": "8967a843-2245-4196-a3bd-6f6ee30fc042",
   "metadata": {},
   "source": [
    "What follows is my attempt to more or less walk the reader through how a more fleshed out version of my system might be used to perform essential blockchain operations. I begin by sharing here all of my source code for the system, which to date unfortunately remains thoroughly uncommented."
   ]
  },
  {
   "cell_type": "code",
   "execution_count": 1,
   "id": "e18802e6-1a8c-466a-8fd3-ed2dc977ebd5",
   "metadata": {},
   "outputs": [],
   "source": [
    "from __future__ import annotations\n",
    "\n",
    "from cryptography.exceptions import InvalidSignature\n",
    "from cryptography.hazmat.primitives.asymmetric import padding, rsa\n",
    "from cryptography.hazmat.primitives import hashes, serialization\n",
    "from datetime import datetime\n",
    "\n",
    "import json\n",
    "import numpy"
   ]
  },
  {
   "cell_type": "code",
   "execution_count": 3,
   "id": "95be8001-219b-4317-8212-31876e6d9018",
   "metadata": {},
   "outputs": [],
   "source": [
    "def int_to_bytes(n: int) -> bytes:\n",
    "    '''Helpful helper function. Converted ints to bytes'''\n",
    "    return n.to_bytes((n.bit_length() + 7) // 8, byteorder='big')"
   ]
  },
  {
   "cell_type": "code",
   "execution_count": 4,
   "id": "5342234b-135a-4688-958c-8be992a16f26",
   "metadata": {},
   "outputs": [],
   "source": [
    "class User:\n",
    "    '''Represents a user of the blockchain.'''\n",
    "\n",
    "    def __init__(self, public_key: rsa.RSAPublicKey) -> None:\n",
    "        self.public_key = public_key\n",
    "        self.modulus = public_key.public_numbers().n\n",
    "        self.address = numpy.base_repr(self._hash_modulus(), 36)\n",
    "\n",
    "    def __str__(self) -> str:\n",
    "        return json.dumps(self, cls=BlockchainEncoder)\n",
    "\n",
    "    def __repr__(self) -> str:\n",
    "        return str(self)\n",
    "\n",
    "    def __eq__(self, other: User) -> bool:\n",
    "        return self.modulus == other.modulus\n",
    "\n",
    "    def __hash__(self) -> int:\n",
    "        return hash(self.modulus)\n",
    "\n",
    "    def _hash_modulus(self) -> int:\n",
    "        digest = hashes.Hash(hashes.BLAKE2s(32))\n",
    "        digest.update(int_to_bytes(self.modulus))\n",
    "        return int.from_bytes(digest.finalize(), byteorder='big')"
   ]
  },
  {
   "cell_type": "code",
   "execution_count": 5,
   "id": "51788d40-aa96-4a2a-a406-b563b909313e",
   "metadata": {},
   "outputs": [],
   "source": [
    "class Log:\n",
    "    '''Represents a single transaction in the blockchain.'''\n",
    "\n",
    "    def __init__(self, key_path: str, password: str,\n",
    "                 sender: User, receiver: User, amount: float,\n",
    "                 item: str | None = None) -> None:\n",
    "        self.sender = sender\n",
    "        self.receiver = receiver\n",
    "        self.amount = amount\n",
    "        self.item = item\n",
    "        self.signature = self.sign(key_path, password)\n",
    "        self.timestamp = str(datetime.now())\n",
    "\n",
    "    def __str__(self) -> str:\n",
    "        return json.dumps(self, cls=BlockchainEncoder)\n",
    "\n",
    "    def __bytes__(self) -> bytes:\n",
    "        return str(self).encode()\n",
    "\n",
    "    def __repr__(self) -> str:\n",
    "        return str(self)\n",
    "\n",
    "    def sign(self, key_path: str, password: str) -> int:\n",
    "        '''Sign the transaction to authorize it'''\n",
    "        with open(key_path, 'rb') as file:\n",
    "            private_key = serialization.load_pem_private_key(\n",
    "                file.read(),\n",
    "                password=password.encode()\n",
    "            )\n",
    "            signature = private_key.sign(\n",
    "                str(self.amount).encode(),\n",
    "                padding.PSS(\n",
    "                    mgf=padding.MGF1(hashes.SHA256()),\n",
    "                    salt_length=padding.PSS.MAX_LENGTH\n",
    "                ),\n",
    "                hashes.SHA256()\n",
    "            )\n",
    "            return int.from_bytes(signature, byteorder='big')\n",
    "            #return numpy.base_repr(signature, 36)\n",
    "\n",
    "    def is_valid(self) -> bool:\n",
    "        '''Check to see if the sender signed the transaction'''\n",
    "        try:\n",
    "            self.sender.public_key.verify(\n",
    "                int_to_bytes(self.signature),\n",
    "                str(self.amount).encode(),\n",
    "                padding.PSS(\n",
    "                    mgf=padding.MGF1(hashes.SHA256()),\n",
    "                    salt_length=padding.PSS.MAX_LENGTH\n",
    "                ),\n",
    "                hashes.SHA256()\n",
    "            )\n",
    "            return True\n",
    "\n",
    "        except InvalidSignature:\n",
    "            return False"
   ]
  },
  {
   "cell_type": "code",
   "execution_count": 7,
   "id": "c4a5cf10-460e-440d-af97-ff18a084c5fe",
   "metadata": {},
   "outputs": [],
   "source": [
    "class Block:\n",
    "    '''Represents a single block in the blockchain'''\n",
    "\n",
    "    def __init__(self, logs: list[Log], prev: Block | None = None) -> None:\n",
    "        self.logs = logs\n",
    "        if prev:\n",
    "            self.prev_hash, self.nonce = prev.find_hash()\n",
    "\n",
    "        else:\n",
    "            self.prev_hash, self.nonce = None, None\n",
    "\n",
    "        self.timestamp = str(datetime.now())\n",
    "\n",
    "    def __str__(self) -> str:\n",
    "        return json.dumps(self, cls=BlockchainEncoder)\n",
    "\n",
    "    def __bytes__(self) -> bytes:\n",
    "        return str(self).encode()\n",
    "\n",
    "    def __repr__(self) -> str:\n",
    "        return str(self)\n",
    "\n",
    "    def find_hash(self) -> tuple[int, int]:\n",
    "        '''Solve the hash/nonce puzzle'''\n",
    "        nonce = 0\n",
    "        digest = self._sha256(nonce)\n",
    "        while digest % 1_000_000 != 0:\n",
    "            nonce += 1\n",
    "            digest = self._sha256(nonce)\n",
    "\n",
    "        return digest, nonce\n",
    "\n",
    "    def _sha256(self, nonce: int) -> int:\n",
    "        digest = hashes.Hash(hashes.SHA256())\n",
    "        digest.update(bytes(self) + int_to_bytes(nonce))\n",
    "        return int.from_bytes(digest.finalize(), byteorder='big')\n",
    "\n",
    "    def is_genesis(self) -> bool:\n",
    "        return not any(self.nonce, self.prev_hash, self.logs)"
   ]
  },
  {
   "cell_type": "code",
   "execution_count": 8,
   "id": "e60d9a51-c4fb-4caf-ad29-d3b7852c4c4b",
   "metadata": {},
   "outputs": [],
   "source": [
    "class Blockchain:\n",
    "\n",
    "    def __init__(self) -> None:\n",
    "        self.blocks = [Block([])]\n",
    "        self.pending_logs = []\n",
    "        self.users = {}\n",
    "\n",
    "    def __len__(self) -> int:\n",
    "        return len(self.blocks)\n",
    "\n",
    "    def __str__(self) -> str:\n",
    "        return json.dumps(self, cls=BlockchainEncoder, indent=4)\n",
    "\n",
    "    def __repr__(self) -> str:\n",
    "        return str(self)\n",
    "\n",
    "    def new_block(self) -> None:\n",
    "        '''Put all remaining pending transactions into a new block'''\n",
    "        block = Block(self.pending_logs, self.last_block)\n",
    "        self.blocks.append(block)\n",
    "        self.pending_logs = []\n",
    "\n",
    "    def new_user(\n",
    "        self,\n",
    "        password: str,\n",
    "        private_path: str = 'private.pem',\n",
    "        public_path: str = 'public.pem',\n",
    "    ) -> None:\n",
    "        '''Instantiate a new user on the system'''\n",
    "        private_key, public_key = self._new_keys()\n",
    "        user = User(public_key)\n",
    "        while user.address in self.users:\n",
    "            private_key, public_key = self._new_keys()\n",
    "            user = User(public_key)\n",
    "\n",
    "        self.users[user.address] = user\n",
    "        self._cache_private_key(private_key, password, private_path)\n",
    "        self._cache_public_key(public_key, public_path)\n",
    "        print(f'New wallet created with password \"{password}\".')\n",
    "        print(f'Keys stored in \"{private_path}\" and \"{public_path}\".')\n",
    "        print('Do not share your password or private key with anyone!')\n",
    "        self.new_log(private_path, password, user.address, user.address, 0.0)\n",
    "\n",
    "    def _new_keys(self) -> tuple[rsa.RSAPrivateKey, rsa.RSAPublicKey]:\n",
    "        private_key = rsa.generate_private_key(\n",
    "            public_exponent=65537,\n",
    "            key_size=2048,\n",
    "        )\n",
    "        public_key = private_key.public_key()\n",
    "        return private_key, public_key\n",
    "\n",
    "    def _cache_private_key(\n",
    "        self,\n",
    "        private_key: rsa.RSAPrivateKey,\n",
    "        password: str,\n",
    "        path: str,\n",
    "    ) -> None:\n",
    "        algorithm = serialization.BestAvailableEncryption(password.encode())\n",
    "        private_pem = private_key.private_bytes(\n",
    "            encoding=serialization.Encoding.PEM,\n",
    "            format=serialization.PrivateFormat.PKCS8,\n",
    "            encryption_algorithm=algorithm\n",
    "        )\n",
    "        with open(path, 'wb') as file:\n",
    "            file.write(private_pem)\n",
    "\n",
    "    def _cache_public_key(\n",
    "        self,\n",
    "        public_key: rsa.RSAPublicKey,\n",
    "        path: str,\n",
    "    ) -> None:\n",
    "        public_pem = public_key.public_bytes(\n",
    "            encoding=serialization.Encoding.PEM,\n",
    "            format=serialization.PublicFormat.SubjectPublicKeyInfo\n",
    "        )\n",
    "        with open(path, 'wb') as file:\n",
    "            file.write(public_pem)\n",
    "\n",
    "    def new_log(\n",
    "        self,\n",
    "        key_path: str,\n",
    "        password: str,\n",
    "        sender_addr: str,\n",
    "        receiver_addr: str,\n",
    "        amount: float,\n",
    "        item: str | None = None,\n",
    "    ) -> None:\n",
    "        sender = self.users[sender_addr]\n",
    "        receiver = self.users[receiver_addr]\n",
    "        log = Log(key_path, password, sender, receiver, amount, item)\n",
    "        self.pending_logs.append(log)\n",
    "\n",
    "    def is_valid(self) -> bool:\n",
    "        if len(self) == 1:\n",
    "            return self.last_block.is_genesis()\n",
    "\n",
    "        prev_hash, _ = self.penultimate_block.find_hash()\n",
    "        return prev_hash == self.last_block.prev_hash\n",
    "\n",
    "    @property\n",
    "    def penultimate_block(self) -> Block | None:\n",
    "        if len(self) > 1:\n",
    "            return self.blocks[-2]\n",
    "\n",
    "        return None\n",
    "\n",
    "    @property\n",
    "    def last_block(self) -> Block:\n",
    "        return self.blocks[-1]"
   ]
  },
  {
   "cell_type": "code",
   "execution_count": 9,
   "id": "2568e1c1-2537-47e2-a76d-13dd577d3b67",
   "metadata": {},
   "outputs": [],
   "source": [
    "class BlockchainEncoder(json.JSONEncoder):\n",
    "    '''Serialize the blockchain into JSON strings'''\n",
    "\n",
    "    def default(self, obj: Any) -> dict[str, Any]:\n",
    "        if isinstance(obj, User):\n",
    "            return {'address': obj.address}\n",
    "\n",
    "        elif isinstance(obj, Log):\n",
    "            return {\n",
    "                'timestamp': obj.timestamp,\n",
    "                'sender': obj.sender,\n",
    "                'receiver': obj.receiver,\n",
    "                'amount': obj.amount,\n",
    "                'item': obj.item,\n",
    "                'signature': obj.signature\n",
    "            }\n",
    "\n",
    "        elif isinstance(obj, Block):\n",
    "            return {\n",
    "                'timestamp': obj.timestamp,\n",
    "                'nonce': obj.nonce,\n",
    "                'prevHash': obj.prev_hash,\n",
    "                'logs': obj.logs\n",
    "            }\n",
    "\n",
    "        elif isinstance(obj, Blockchain):\n",
    "            return {\n",
    "                'length': len(obj),\n",
    "                'pendingLogs': obj.pending_logs,\n",
    "                'blocks': obj.blocks\n",
    "            }\n",
    "\n",
    "        return json.JSONEncoder.default(self, obj)"
   ]
  },
  {
   "cell_type": "markdown",
   "id": "2f29c181-96dc-4dd6-9acf-85c937010642",
   "metadata": {},
   "source": [
    "From here, we can begin by instantiating an instance of the top-level Blockchain class."
   ]
  },
  {
   "cell_type": "code",
   "execution_count": 11,
   "id": "fa83daca-4ac4-44ff-b363-7436052ef262",
   "metadata": {},
   "outputs": [
    {
     "data": {
      "text/plain": [
       "{\n",
       "    \"length\": 1,\n",
       "    \"pendingLogs\": [],\n",
       "    \"blocks\": [\n",
       "        {\n",
       "            \"timestamp\": \"2022-04-12 19:05:40.585628\",\n",
       "            \"nonce\": null,\n",
       "            \"prevHash\": null,\n",
       "            \"logs\": []\n",
       "        }\n",
       "    ]\n",
       "}"
      ]
     },
     "execution_count": 11,
     "metadata": {},
     "output_type": "execute_result"
    }
   ],
   "source": [
    "b = Blockchain()\n",
    "b"
   ]
  },
  {
   "cell_type": "markdown",
   "id": "eb34306e-484d-4a6e-8344-e776888999dd",
   "metadata": {},
   "source": [
    "We can see that the blockchain is pretty much completely empty, although it has been given a genesis block to begin the chain. Note that missing fields are accurately represented with a null value in the JSON serialization."
   ]
  },
  {
   "cell_type": "markdown",
   "id": "9d0cf9e0-277e-4c90-a97a-b33d481a7b24",
   "metadata": {},
   "source": [
    "Next, we try instantiating a couple of users to perform trades with one another. Because we are running the blockchain locally, the keys for both of these users will have to be stored on our local machine. Once JSON deserialization is up and running, however, user data should persist between runs so that the local storage of public keys other than your own won't be necessary."
   ]
  },
  {
   "cell_type": "code",
   "execution_count": 12,
   "id": "35d23663-6b01-409e-8f49-f13017c9c633",
   "metadata": {},
   "outputs": [
    {
     "name": "stdout",
     "output_type": "stream",
     "text": [
      "New wallet created with password \"banana\".\n",
      "Keys stored in \"private.pem\" and \"public.pem\".\n",
      "Do not share your password or private key with anyone!\n"
     ]
    }
   ],
   "source": [
    "b.new_user(password='banana')"
   ]
  },
  {
   "cell_type": "code",
   "execution_count": 13,
   "id": "18ba3a48-d5ab-4da6-83ca-6b27579829fb",
   "metadata": {},
   "outputs": [
    {
     "name": "stdout",
     "output_type": "stream",
     "text": [
      "New wallet created with password \"orange\".\n",
      "Keys stored in \"other_private.pem\" and \"other_public.pem\".\n",
      "Do not share your password or private key with anyone!\n"
     ]
    }
   ],
   "source": [
    "b.new_user('orange', 'other_private.pem', 'other_public.pem')"
   ]
  },
  {
   "cell_type": "code",
   "execution_count": 14,
   "id": "689f8152-e73b-4f13-a185-ab0efcf09b1f",
   "metadata": {},
   "outputs": [
    {
     "data": {
      "text/plain": [
       "{\n",
       "    \"length\": 1,\n",
       "    \"pendingLogs\": [\n",
       "        {\n",
       "            \"timestamp\": \"2022-04-12 19:09:38.709586\",\n",
       "            \"sender\": {\n",
       "                \"address\": \"9WODMAQ9MNP0XGBN5VU15XMXM5E84PS7S8O2J126UBWV0YPVS\"\n",
       "            },\n",
       "            \"receiver\": {\n",
       "                \"address\": \"9WODMAQ9MNP0XGBN5VU15XMXM5E84PS7S8O2J126UBWV0YPVS\"\n",
       "            },\n",
       "            \"amount\": 0.0,\n",
       "            \"item\": null,\n",
       "            \"signature\": 20208789411198744399796627715553320761143040914169027783898425742605920909744386145202424315214744536430223842890351170125871069370028175043586838959084657590171679469840181329274735117550062383227885133254426783222687579150128956006355684002140312689101189797909794413167852516405344659426398968392889484802704480320727343204909199496976888899441885253856283262746057058007131815592457178204566929299419864426006339840834598061717055294200052618113340403408465490323147401081976602044105250218213545279248825652247980276228357563477113492405482206834424038672042608764596046963203562366688689693672285329496008925504\n",
       "        },\n",
       "        {\n",
       "            \"timestamp\": \"2022-04-12 19:10:22.596183\",\n",
       "            \"sender\": {\n",
       "                \"address\": \"2ZG964PCWB6Z7D80ZV0LDOM4OT3WQ9HFUD0RJ3GLGFO3B249W8\"\n",
       "            },\n",
       "            \"receiver\": {\n",
       "                \"address\": \"2ZG964PCWB6Z7D80ZV0LDOM4OT3WQ9HFUD0RJ3GLGFO3B249W8\"\n",
       "            },\n",
       "            \"amount\": 0.0,\n",
       "            \"item\": null,\n",
       "            \"signature\": 3064492126971159587525943203539823140398534364006474971381751922194776809389524175789097332493008012972051061679063184172108172020158039779142128477112890980159406768852095680171362088832753045879159012867104194782386368936942699308534033886596930397453840369634979153022682451263368219118254760071258657530212833865428881509427524843947448475787573220093007068757100471871324343207777253837363462236471315311902065852513025983203641382945686868129482399111629837688456063885563646284414488500780730848520550694518969370481201291967126853805282084155707750066707881423637241813962908816720563912018285180620851407828\n",
       "        }\n",
       "    ],\n",
       "    \"blocks\": [\n",
       "        {\n",
       "            \"timestamp\": \"2022-04-12 19:05:40.585628\",\n",
       "            \"nonce\": null,\n",
       "            \"prevHash\": null,\n",
       "            \"logs\": []\n",
       "        }\n",
       "    ]\n",
       "}"
      ]
     },
     "execution_count": 14,
     "metadata": {},
     "output_type": "execute_result"
    }
   ],
   "source": [
    "b"
   ]
  },
  {
   "cell_type": "markdown",
   "id": "772acee6-fd2f-471e-8be0-83e5cef30983",
   "metadata": {},
   "source": [
    "Printing the blockchain again shows us that two new transactions have been added to the blockchain's pending transactions pool. Each of these correspond to the generation of a new private-public key pair intended for a new user. These transactions are more or less just dummy transactions and don't convey any useful information other than the virtual wallet addresses of the two users. We can go ahead and validate these two transactions (because we know they are valid)."
   ]
  },
  {
   "cell_type": "code",
   "execution_count": 15,
   "id": "a6852e84-f331-41f7-aa4a-7f9f55ebab9b",
   "metadata": {},
   "outputs": [],
   "source": [
    "b.new_block()"
   ]
  },
  {
   "cell_type": "markdown",
   "id": "246d9ca9-a852-45d2-ac9d-e7c9124f01d7",
   "metadata": {},
   "source": [
    "Doing this takes a few seconds for the blockchain to solve the cryptographic hash puzzle, but printing it out again we see that the two previously pending transactions have since been added to a single block. Also visible is the hash and nonce that satisfied the nonce puzzle, as well as our signature on the block we just created."
   ]
  },
  {
   "cell_type": "code",
   "execution_count": 17,
   "id": "394bebdf-c7d1-4412-9578-9b22c6e084be",
   "metadata": {},
   "outputs": [
    {
     "data": {
      "text/plain": [
       "{\n",
       "    \"length\": 2,\n",
       "    \"pendingLogs\": [],\n",
       "    \"blocks\": [\n",
       "        {\n",
       "            \"timestamp\": \"2022-04-12 19:05:40.585628\",\n",
       "            \"nonce\": null,\n",
       "            \"prevHash\": null,\n",
       "            \"logs\": []\n",
       "        },\n",
       "        {\n",
       "            \"timestamp\": \"2022-04-12 19:14:00.746925\",\n",
       "            \"nonce\": 374728,\n",
       "            \"prevHash\": 17935035217301825901968154270887183157948782590931860339863917845530353000000,\n",
       "            \"logs\": [\n",
       "                {\n",
       "                    \"timestamp\": \"2022-04-12 19:09:38.709586\",\n",
       "                    \"sender\": {\n",
       "                        \"address\": \"9WODMAQ9MNP0XGBN5VU15XMXM5E84PS7S8O2J126UBWV0YPVS\"\n",
       "                    },\n",
       "                    \"receiver\": {\n",
       "                        \"address\": \"9WODMAQ9MNP0XGBN5VU15XMXM5E84PS7S8O2J126UBWV0YPVS\"\n",
       "                    },\n",
       "                    \"amount\": 0.0,\n",
       "                    \"item\": null,\n",
       "                    \"signature\": 20208789411198744399796627715553320761143040914169027783898425742605920909744386145202424315214744536430223842890351170125871069370028175043586838959084657590171679469840181329274735117550062383227885133254426783222687579150128956006355684002140312689101189797909794413167852516405344659426398968392889484802704480320727343204909199496976888899441885253856283262746057058007131815592457178204566929299419864426006339840834598061717055294200052618113340403408465490323147401081976602044105250218213545279248825652247980276228357563477113492405482206834424038672042608764596046963203562366688689693672285329496008925504\n",
       "                },\n",
       "                {\n",
       "                    \"timestamp\": \"2022-04-12 19:10:22.596183\",\n",
       "                    \"sender\": {\n",
       "                        \"address\": \"2ZG964PCWB6Z7D80ZV0LDOM4OT3WQ9HFUD0RJ3GLGFO3B249W8\"\n",
       "                    },\n",
       "                    \"receiver\": {\n",
       "                        \"address\": \"2ZG964PCWB6Z7D80ZV0LDOM4OT3WQ9HFUD0RJ3GLGFO3B249W8\"\n",
       "                    },\n",
       "                    \"amount\": 0.0,\n",
       "                    \"item\": null,\n",
       "                    \"signature\": 3064492126971159587525943203539823140398534364006474971381751922194776809389524175789097332493008012972051061679063184172108172020158039779142128477112890980159406768852095680171362088832753045879159012867104194782386368936942699308534033886596930397453840369634979153022682451263368219118254760071258657530212833865428881509427524843947448475787573220093007068757100471871324343207777253837363462236471315311902065852513025983203641382945686868129482399111629837688456063885563646284414488500780730848520550694518969370481201291967126853805282084155707750066707881423637241813962908816720563912018285180620851407828\n",
       "                }\n",
       "            ]\n",
       "        }\n",
       "    ]\n",
       "}"
      ]
     },
     "execution_count": 17,
     "metadata": {},
     "output_type": "execute_result"
    }
   ],
   "source": [
    "b"
   ]
  },
  {
   "cell_type": "markdown",
   "id": "f826d8e2-fe84-4754-b59b-ad7849ef1f96",
   "metadata": {},
   "source": [
    "If another user wanted to, they could confirm that the transactions we just added to the blockchain were actually signed by their senders (us). They could do this like so:"
   ]
  },
  {
   "cell_type": "code",
   "execution_count": 20,
   "id": "4791ec54-31a2-4f07-ab5f-5ca57bf95283",
   "metadata": {},
   "outputs": [
    {
     "data": {
      "text/plain": [
       "(True, True)"
      ]
     },
     "execution_count": 20,
     "metadata": {},
     "output_type": "execute_result"
    }
   ],
   "source": [
    "b.last_block.logs[0].is_valid(), b.last_block.logs[1].is_valid()"
   ]
  },
  {
   "cell_type": "markdown",
   "id": "102baffd-1c8f-48e5-9902-2f7cdc44a87b",
   "metadata": {},
   "source": [
    "Next we can try adding a malicious log and see what happens when another user attempts to validate it. First we make a new false transaction, using the virtual addresses present in the chain."
   ]
  },
  {
   "cell_type": "code",
   "execution_count": 22,
   "id": "b41fa362-1224-4dd0-9f28-bb4988b12f41",
   "metadata": {},
   "outputs": [],
   "source": [
    "my_addr = '9WODMAQ9MNP0XGBN5VU15XMXM5E84PS7S8O2J126UBWV0YPVS'\n",
    "other_addr = '2ZG964PCWB6Z7D80ZV0LDOM4OT3WQ9HFUD0RJ3GLGFO3B249W8'\n",
    "\n",
    "b.new_log('private.pem', 'banana', other_addr, my_addr, 100000.0)"
   ]
  },
  {
   "cell_type": "code",
   "execution_count": 24,
   "id": "8d5c291a-fcb2-4cc4-99b0-c869fbb8f2d0",
   "metadata": {},
   "outputs": [
    {
     "data": {
      "text/plain": [
       "{\n",
       "    \"length\": 2,\n",
       "    \"pendingLogs\": [\n",
       "        {\n",
       "            \"timestamp\": \"2022-04-12 19:24:24.574884\",\n",
       "            \"sender\": {\n",
       "                \"address\": \"2ZG964PCWB6Z7D80ZV0LDOM4OT3WQ9HFUD0RJ3GLGFO3B249W8\"\n",
       "            },\n",
       "            \"receiver\": {\n",
       "                \"address\": \"9WODMAQ9MNP0XGBN5VU15XMXM5E84PS7S8O2J126UBWV0YPVS\"\n",
       "            },\n",
       "            \"amount\": 100000.0,\n",
       "            \"item\": null,\n",
       "            \"signature\": 17464804555741922193428394296947962499793842005108322697678661278863068423561777573213845584453988654143108288138491366620441207949902669488904261757579017066582818728762808005812993192334716780507927319178933668192489716055031077824811081980808601900883487115284068218592176805710916492466882096128812713299298601676794812377882137669553339356686120911774352702727969666100816518848724126129482885815796074233841829487381696712049854676242409110413420885262443117387692402735213555755654304496791905325672700058061125490555706880255194500385417266232959377257450958244856363939245812444196995646233526767449661070073\n",
       "        }\n",
       "    ],\n",
       "    \"blocks\": [\n",
       "        {\n",
       "            \"timestamp\": \"2022-04-12 19:05:40.585628\",\n",
       "            \"nonce\": null,\n",
       "            \"prevHash\": null,\n",
       "            \"logs\": []\n",
       "        },\n",
       "        {\n",
       "            \"timestamp\": \"2022-04-12 19:14:00.746925\",\n",
       "            \"nonce\": 374728,\n",
       "            \"prevHash\": 17935035217301825901968154270887183157948782590931860339863917845530353000000,\n",
       "            \"logs\": [\n",
       "                {\n",
       "                    \"timestamp\": \"2022-04-12 19:09:38.709586\",\n",
       "                    \"sender\": {\n",
       "                        \"address\": \"9WODMAQ9MNP0XGBN5VU15XMXM5E84PS7S8O2J126UBWV0YPVS\"\n",
       "                    },\n",
       "                    \"receiver\": {\n",
       "                        \"address\": \"9WODMAQ9MNP0XGBN5VU15XMXM5E84PS7S8O2J126UBWV0YPVS\"\n",
       "                    },\n",
       "                    \"amount\": 0.0,\n",
       "                    \"item\": null,\n",
       "                    \"signature\": 20208789411198744399796627715553320761143040914169027783898425742605920909744386145202424315214744536430223842890351170125871069370028175043586838959084657590171679469840181329274735117550062383227885133254426783222687579150128956006355684002140312689101189797909794413167852516405344659426398968392889484802704480320727343204909199496976888899441885253856283262746057058007131815592457178204566929299419864426006339840834598061717055294200052618113340403408465490323147401081976602044105250218213545279248825652247980276228357563477113492405482206834424038672042608764596046963203562366688689693672285329496008925504\n",
       "                },\n",
       "                {\n",
       "                    \"timestamp\": \"2022-04-12 19:10:22.596183\",\n",
       "                    \"sender\": {\n",
       "                        \"address\": \"2ZG964PCWB6Z7D80ZV0LDOM4OT3WQ9HFUD0RJ3GLGFO3B249W8\"\n",
       "                    },\n",
       "                    \"receiver\": {\n",
       "                        \"address\": \"2ZG964PCWB6Z7D80ZV0LDOM4OT3WQ9HFUD0RJ3GLGFO3B249W8\"\n",
       "                    },\n",
       "                    \"amount\": 0.0,\n",
       "                    \"item\": null,\n",
       "                    \"signature\": 3064492126971159587525943203539823140398534364006474971381751922194776809389524175789097332493008012972051061679063184172108172020158039779142128477112890980159406768852095680171362088832753045879159012867104194782386368936942699308534033886596930397453840369634979153022682451263368219118254760071258657530212833865428881509427524843947448475787573220093007068757100471871324343207777253837363462236471315311902065852513025983203641382945686868129482399111629837688456063885563646284414488500780730848520550694518969370481201291967126853805282084155707750066707881423637241813962908816720563912018285180620851407828\n",
       "                }\n",
       "            ]\n",
       "        }\n",
       "    ]\n",
       "}"
      ]
     },
     "execution_count": 24,
     "metadata": {},
     "output_type": "execute_result"
    }
   ],
   "source": [
    "b"
   ]
  },
  {
   "cell_type": "markdown",
   "id": "50c2f2c0-11d3-47b3-9865-6205c14755a2",
   "metadata": {},
   "source": [
    "We see that the log has been added without any error being raised. Oh no! Luckily users can still check the validity of transactions manually. In this case it is quite straightforward, as the transaction's signature will not match the sender's key."
   ]
  },
  {
   "cell_type": "code",
   "execution_count": 25,
   "id": "7711409f-4854-40b3-8b57-e8fe91c9a421",
   "metadata": {},
   "outputs": [
    {
     "data": {
      "text/plain": [
       "False"
      ]
     },
     "execution_count": 25,
     "metadata": {},
     "output_type": "execute_result"
    }
   ],
   "source": [
    "b.pending_logs[0].is_valid()"
   ]
  },
  {
   "cell_type": "markdown",
   "id": "c0e66efa-c19e-45e3-a8a0-4ceddb3078c7",
   "metadata": {},
   "source": [
    "In response, we can simply remove the log from the pending logs pool and go on with our day."
   ]
  },
  {
   "cell_type": "code",
   "execution_count": 26,
   "id": "dacf2d15-2072-49e4-a9d4-97ca8279e692",
   "metadata": {},
   "outputs": [
    {
     "data": {
      "text/plain": [
       "{\n",
       "    \"length\": 2,\n",
       "    \"pendingLogs\": [],\n",
       "    \"blocks\": [\n",
       "        {\n",
       "            \"timestamp\": \"2022-04-12 19:05:40.585628\",\n",
       "            \"nonce\": null,\n",
       "            \"prevHash\": null,\n",
       "            \"logs\": []\n",
       "        },\n",
       "        {\n",
       "            \"timestamp\": \"2022-04-12 19:14:00.746925\",\n",
       "            \"nonce\": 374728,\n",
       "            \"prevHash\": 17935035217301825901968154270887183157948782590931860339863917845530353000000,\n",
       "            \"logs\": [\n",
       "                {\n",
       "                    \"timestamp\": \"2022-04-12 19:09:38.709586\",\n",
       "                    \"sender\": {\n",
       "                        \"address\": \"9WODMAQ9MNP0XGBN5VU15XMXM5E84PS7S8O2J126UBWV0YPVS\"\n",
       "                    },\n",
       "                    \"receiver\": {\n",
       "                        \"address\": \"9WODMAQ9MNP0XGBN5VU15XMXM5E84PS7S8O2J126UBWV0YPVS\"\n",
       "                    },\n",
       "                    \"amount\": 0.0,\n",
       "                    \"item\": null,\n",
       "                    \"signature\": 20208789411198744399796627715553320761143040914169027783898425742605920909744386145202424315214744536430223842890351170125871069370028175043586838959084657590171679469840181329274735117550062383227885133254426783222687579150128956006355684002140312689101189797909794413167852516405344659426398968392889484802704480320727343204909199496976888899441885253856283262746057058007131815592457178204566929299419864426006339840834598061717055294200052618113340403408465490323147401081976602044105250218213545279248825652247980276228357563477113492405482206834424038672042608764596046963203562366688689693672285329496008925504\n",
       "                },\n",
       "                {\n",
       "                    \"timestamp\": \"2022-04-12 19:10:22.596183\",\n",
       "                    \"sender\": {\n",
       "                        \"address\": \"2ZG964PCWB6Z7D80ZV0LDOM4OT3WQ9HFUD0RJ3GLGFO3B249W8\"\n",
       "                    },\n",
       "                    \"receiver\": {\n",
       "                        \"address\": \"2ZG964PCWB6Z7D80ZV0LDOM4OT3WQ9HFUD0RJ3GLGFO3B249W8\"\n",
       "                    },\n",
       "                    \"amount\": 0.0,\n",
       "                    \"item\": null,\n",
       "                    \"signature\": 3064492126971159587525943203539823140398534364006474971381751922194776809389524175789097332493008012972051061679063184172108172020158039779142128477112890980159406768852095680171362088832753045879159012867104194782386368936942699308534033886596930397453840369634979153022682451263368219118254760071258657530212833865428881509427524843947448475787573220093007068757100471871324343207777253837363462236471315311902065852513025983203641382945686868129482399111629837688456063885563646284414488500780730848520550694518969370481201291967126853805282084155707750066707881423637241813962908816720563912018285180620851407828\n",
       "                }\n",
       "            ]\n",
       "        }\n",
       "    ]\n",
       "}"
      ]
     },
     "execution_count": 26,
     "metadata": {},
     "output_type": "execute_result"
    }
   ],
   "source": [
    "b.pending_logs.clear()\n",
    "b"
   ]
  },
  {
   "cell_type": "markdown",
   "id": "4782950c-e36b-4878-bfd4-2e63cc3cb0f4",
   "metadata": {},
   "source": [
    "Finally, we show that basic NFT functionality is included with this blockchain too. All we really need to do is add an IPFS hash of whatever object we want to trade as an argument to the new_log method call. To generate this hash, we do need IPFS installed on our local system."
   ]
  },
  {
   "cell_type": "code",
   "execution_count": 27,
   "id": "cb036d0e-8fdb-4fb9-a97d-78b948d20fa8",
   "metadata": {},
   "outputs": [
    {
     "name": "stdout",
     "output_type": "stream",
     "text": [
      "USAGE\n",
      "  ipfs  - Global p2p merkle-dag filesystem.\n",
      "\n",
      "SYNOPSIS\n",
      "  ipfs [--config=<config> | -c] [--debug | -D] [--help] [-h] [--api=<api>] [--offline] [--cid-base=<base>] [--upgrade-cidv0-in-output] [--encoding=<encoding> | --enc] [--timeout=<timeout>] <command> ...\n",
      "\n",
      "OPTIONS\n",
      "\n",
      "  -c, --config               string - Path to the configuration file to use.\n",
      "  -D, --debug                bool   - Operate in debug mode.\n",
      "  --help                     bool   - Show the full command help text.\n",
      "  -h                         bool   - Show a short version of the command help\n",
      "                                      text.\n",
      "  -L, --local                bool   - Run the command locally, instead of using\n",
      "                                      the daemon. DEPRECATED: use --offline.\n",
      "  --offline                  bool   - Run the command offline.\n",
      "  --api                      string - Use a specific API instance (defaults to\n",
      "                                      /ip4/127.0.0.1/tcp/5001).\n",
      "  --cid-base                 string - Multibase encoding used for version 1\n",
      "                                      CIDs in output.\n",
      "  --upgrade-cidv0-in-output  bool   - Upgrade version 0 to version 1 CIDs in\n",
      "                                      output.\n",
      "  --enc, --encoding          string - The encoding type the output should be\n",
      "                                      encoded with (json, xml, or text).\n",
      "                                      Default: text.\n",
      "  --stream-channels          bool   - Stream channel output.\n",
      "  --timeout                  string - Set a global timeout on the command.\n",
      "\n",
      "SUBCOMMANDS\n",
      "  BASIC COMMANDS\n",
      "    init          Initialize local IPFS configuration\n",
      "    add <path>    Add a file to IPFS\n",
      "    cat <ref>     Show IPFS object data\n",
      "    get <ref>     Download IPFS objects\n",
      "    ls <ref>      List links from an object\n",
      "    refs <ref>    List hashes of links from an object\n",
      "  \n",
      "  DATA STRUCTURE COMMANDS\n",
      "    dag           Interact with IPLD DAG nodes\n",
      "    files         Interact with files as if they were a unix filesystem\n",
      "    block         Interact with raw blocks in the datastore\n",
      "  \n",
      "  TEXT ENCODING COMMANDS\n",
      "    cid           Convert and discover properties of CIDs\n",
      "    multibase     Encode and decode data with Multibase format\n",
      "  \n",
      "  ADVANCED COMMANDS\n",
      "    daemon        Start a long-running daemon process\n",
      "    mount         Mount an IPFS read-only mount point\n",
      "    resolve       Resolve any type of name\n",
      "    name          Publish and resolve IPNS names\n",
      "    key           Create and list IPNS name keypairs\n",
      "    dns           Resolve DNS links\n",
      "    pin           Pin objects to local storage\n",
      "    repo          Manipulate the IPFS repository\n",
      "    stats         Various operational stats\n",
      "    p2p           Libp2p stream mounting\n",
      "    filestore     Manage the filestore (experimental)\n",
      "  \n",
      "  NETWORK COMMANDS\n",
      "    id            Show info about IPFS peers\n",
      "    bootstrap     Add or remove bootstrap peers\n",
      "    swarm         Manage connections to the p2p network\n",
      "    dht           Query the DHT for values or peers\n",
      "    ping          Measure the latency of a connection\n",
      "    diag          Print diagnostics\n",
      "    bitswap       Inspect bitswap state\n",
      "    pubsub        Send and receive messages via pubsub\n",
      "  \n",
      "  TOOL COMMANDS\n",
      "    config        Manage configuration\n",
      "    version       Show IPFS version information\n",
      "    update        Download and apply go-ipfs updates\n",
      "    commands      List all available commands\n",
      "    log           Manage and show logs of running daemon\n",
      "  \n",
      "  Use 'ipfs <command> --help' to learn more about each command.\n",
      "  \n",
      "  ipfs uses a repository in the local file system. By default, the repo is\n",
      "  located at ~/.ipfs. To change the repo location, set the $IPFS_PATH\n",
      "  environment variable:\n",
      "  \n",
      "    export IPFS_PATH=/path/to/ipfsrepo\n",
      "  \n",
      "  EXIT STATUS\n",
      "  \n",
      "  The CLI will exit with one of the following values:\n",
      "  \n",
      "  0     Successful execution.\n",
      "  1     Failed executions.\n",
      "\n",
      "  For more information about each command, use:\n",
      "  'ipfs <subcmd> --help'\n",
      "\n"
     ]
    }
   ],
   "source": [
    "%%bash\n",
    "\n",
    "ipfs help"
   ]
  },
  {
   "cell_type": "markdown",
   "id": "59a5c51c-993e-4a2f-84e3-7d739de51d23",
   "metadata": {},
   "source": [
    "We can upload files to IPFS pretty easily. Doing so will return the IPFS hash of the file back to you so you may retrieve it later on. To download files back from the distributed IPFS system, the daemon will probably need to be activated first."
   ]
  },
  {
   "cell_type": "code",
   "execution_count": 28,
   "id": "dadc8be4-4fdc-483c-acc4-b5c9453932e6",
   "metadata": {},
   "outputs": [
    {
     "name": "stdout",
     "output_type": "stream",
     "text": [
      "added QmdNAQU5wi61qBW2inREccbhoQWUd3YfuheXunUSmLZpmS kaboom.png\n"
     ]
    },
    {
     "name": "stderr",
     "output_type": "stream",
     "text": [
      " 87.89 KiB / 87.89 KiB  100.00%\u001b[2K"
     ]
    }
   ],
   "source": [
    "%%bash\n",
    "\n",
    "ipfs add kaboom.png"
   ]
  },
  {
   "cell_type": "code",
   "execution_count": 29,
   "id": "6da2362c-da54-41a5-89df-5f6eee5d1556",
   "metadata": {},
   "outputs": [],
   "source": [
    "ipfs_hash = 'QmdNAQU5wi61qBW2inREccbhoQWUd3YfuheXunUSmLZpmS'"
   ]
  },
  {
   "cell_type": "code",
   "execution_count": 30,
   "id": "7fc72df0-6e98-41ec-b350-c16797520fbf",
   "metadata": {},
   "outputs": [],
   "source": [
    "%%bash\n",
    "\n",
    "ipfs cat QmdNAQU5wi61qBW2inREccbhoQWUd3YfuheXunUSmLZpmS > kaboom_copy.png"
   ]
  },
  {
   "cell_type": "markdown",
   "id": "f8787a45-0d27-493d-b12a-54271a3d86c6",
   "metadata": {},
   "source": [
    "Once the IPFS hash of the file is ready, you can simply add as an argument to the new_log method call. This hash will persist on the blockchain as long as the whole blockchain persists in memory, and cannot be deleted or moved to another user without invalidating the entirety of the blockchain."
   ]
  },
  {
   "cell_type": "code",
   "execution_count": 32,
   "id": "f6374218-2503-4b64-b704-46f69c4ae38b",
   "metadata": {},
   "outputs": [],
   "source": [
    "b.new_log('private.pem', 'banana', my_addr, other_addr, 0.0, ipfs_hash)"
   ]
  },
  {
   "cell_type": "code",
   "execution_count": 33,
   "id": "f9dbd1b0-9ff3-48b4-b23c-ead0a56c88ad",
   "metadata": {},
   "outputs": [
    {
     "data": {
      "text/plain": [
       "{\n",
       "    \"length\": 2,\n",
       "    \"pendingLogs\": [\n",
       "        {\n",
       "            \"timestamp\": \"2022-04-12 19:40:05.867113\",\n",
       "            \"sender\": {\n",
       "                \"address\": \"9WODMAQ9MNP0XGBN5VU15XMXM5E84PS7S8O2J126UBWV0YPVS\"\n",
       "            },\n",
       "            \"receiver\": {\n",
       "                \"address\": \"2ZG964PCWB6Z7D80ZV0LDOM4OT3WQ9HFUD0RJ3GLGFO3B249W8\"\n",
       "            },\n",
       "            \"amount\": 0.0,\n",
       "            \"item\": \"QmdNAQU5wi61qBW2inREccbhoQWUd3YfuheXunUSmLZpmS\",\n",
       "            \"signature\": 7592259829759227269025931347346699182432245570971704794343981296480728023751018187204925741321456423367847342338029575184685818237682574157291215820580485238945419631691050988311566945613845144977918631761548129824299795589219529954995508188466135661741691711792822608745786347604533584097846365350784388409733744005604493860023860773949291712389659757269330890135360713664578266240178911207480629540040978894364207511792536535806848234705622846422955410897071942610642244908205362864950983935423383554787435864509369186927164153312452598471196796160804738710330447799265122162804409124109915251037033679557474106674\n",
       "        }\n",
       "    ],\n",
       "    \"blocks\": [\n",
       "        {\n",
       "            \"timestamp\": \"2022-04-12 19:05:40.585628\",\n",
       "            \"nonce\": null,\n",
       "            \"prevHash\": null,\n",
       "            \"logs\": []\n",
       "        },\n",
       "        {\n",
       "            \"timestamp\": \"2022-04-12 19:14:00.746925\",\n",
       "            \"nonce\": 374728,\n",
       "            \"prevHash\": 17935035217301825901968154270887183157948782590931860339863917845530353000000,\n",
       "            \"logs\": [\n",
       "                {\n",
       "                    \"timestamp\": \"2022-04-12 19:09:38.709586\",\n",
       "                    \"sender\": {\n",
       "                        \"address\": \"9WODMAQ9MNP0XGBN5VU15XMXM5E84PS7S8O2J126UBWV0YPVS\"\n",
       "                    },\n",
       "                    \"receiver\": {\n",
       "                        \"address\": \"9WODMAQ9MNP0XGBN5VU15XMXM5E84PS7S8O2J126UBWV0YPVS\"\n",
       "                    },\n",
       "                    \"amount\": 0.0,\n",
       "                    \"item\": null,\n",
       "                    \"signature\": 20208789411198744399796627715553320761143040914169027783898425742605920909744386145202424315214744536430223842890351170125871069370028175043586838959084657590171679469840181329274735117550062383227885133254426783222687579150128956006355684002140312689101189797909794413167852516405344659426398968392889484802704480320727343204909199496976888899441885253856283262746057058007131815592457178204566929299419864426006339840834598061717055294200052618113340403408465490323147401081976602044105250218213545279248825652247980276228357563477113492405482206834424038672042608764596046963203562366688689693672285329496008925504\n",
       "                },\n",
       "                {\n",
       "                    \"timestamp\": \"2022-04-12 19:10:22.596183\",\n",
       "                    \"sender\": {\n",
       "                        \"address\": \"2ZG964PCWB6Z7D80ZV0LDOM4OT3WQ9HFUD0RJ3GLGFO3B249W8\"\n",
       "                    },\n",
       "                    \"receiver\": {\n",
       "                        \"address\": \"2ZG964PCWB6Z7D80ZV0LDOM4OT3WQ9HFUD0RJ3GLGFO3B249W8\"\n",
       "                    },\n",
       "                    \"amount\": 0.0,\n",
       "                    \"item\": null,\n",
       "                    \"signature\": 3064492126971159587525943203539823140398534364006474971381751922194776809389524175789097332493008012972051061679063184172108172020158039779142128477112890980159406768852095680171362088832753045879159012867104194782386368936942699308534033886596930397453840369634979153022682451263368219118254760071258657530212833865428881509427524843947448475787573220093007068757100471871324343207777253837363462236471315311902065852513025983203641382945686868129482399111629837688456063885563646284414488500780730848520550694518969370481201291967126853805282084155707750066707881423637241813962908816720563912018285180620851407828\n",
       "                }\n",
       "            ]\n",
       "        }\n",
       "    ]\n",
       "}"
      ]
     },
     "execution_count": 33,
     "metadata": {},
     "output_type": "execute_result"
    }
   ],
   "source": [
    "b"
   ]
  },
  {
   "cell_type": "markdown",
   "id": "36ba0760-ab11-4b13-8e75-c9fee5026e8c",
   "metadata": {},
   "source": [
    "And voila! An NFT has successfully been transferred from one user to another for free."
   ]
  },
  {
   "cell_type": "code",
   "execution_count": null,
   "id": "13d59238-d1c1-487f-a06e-89d299d017bd",
   "metadata": {},
   "outputs": [],
   "source": []
  }
 ],
 "metadata": {
  "kernelspec": {
   "display_name": "Python 3 (ipykernel)",
   "language": "python",
   "name": "python3"
  },
  "language_info": {
   "codemirror_mode": {
    "name": "ipython",
    "version": 3
   },
   "file_extension": ".py",
   "mimetype": "text/x-python",
   "name": "python",
   "nbconvert_exporter": "python",
   "pygments_lexer": "ipython3",
   "version": "3.10.3"
  }
 },
 "nbformat": 4,
 "nbformat_minor": 5
}
